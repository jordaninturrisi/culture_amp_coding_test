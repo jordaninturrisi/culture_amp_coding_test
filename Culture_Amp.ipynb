{
 "cells": [
  {
   "cell_type": "code",
   "execution_count": 1,
   "metadata": {
    "collapsed": false
   },
   "outputs": [
    {
     "name": "stderr",
     "output_type": "stream",
     "text": [
      "/usr/local/lib/python3.5/dist-packages/h5py/__init__.py:34: FutureWarning: Conversion of the second argument of issubdtype from `float` to `np.floating` is deprecated. In future, it will be treated as `np.float64 == np.dtype(float).type`.\n",
      "  from ._conv import register_converters as _register_converters\n",
      "Using TensorFlow backend.\n"
     ]
    }
   ],
   "source": [
    "# Imports\n",
    "\n",
    "from __future__ import print_function\n",
    "\n",
    "# Keras\n",
    "import keras\n",
    "\n",
    "# Other\n",
    "import random\n",
    "import numpy as np\n",
    "import tensorflow as tf\n",
    "import matplotlib.pyplot as plt"
   ]
  },
  {
   "cell_type": "code",
   "execution_count": 2,
   "metadata": {
    "collapsed": true
   },
   "outputs": [],
   "source": [
    "# Put these at the top of every notebook, to get automatic reloading and inline plotting\n",
    "\n",
    "# This is a bit of magic to make matplotlib figures appear inline in the\n",
    "# notebook rather than in a new window.\n",
    "%matplotlib inline\n",
    "plt.rcParams['figure.figsize'] = (10.0, 8.0) # set default size of plots\n",
    "plt.rcParams['image.interpolation'] = 'nearest'\n",
    "plt.rcParams['image.cmap'] = 'gray'\n",
    "\n",
    "# Some more magic so that the notebook will reload external python modules;\n",
    "# see http://stackoverflow.com/questions/1907993/autoreload-of-modules-in-ipython\n",
    "%load_ext autoreload\n",
    "%autoreload 2"
   ]
  },
  {
   "cell_type": "markdown",
   "metadata": {},
   "source": [
    "# Load Data"
   ]
  },
  {
   "cell_type": "markdown",
   "metadata": {},
   "source": [
    "## Load Reference Questions"
   ]
  },
  {
   "cell_type": "code",
   "execution_count": 3,
   "metadata": {
    "collapsed": false
   },
   "outputs": [],
   "source": [
    "# import pandas as pd\n",
    "# pd_questions = pd.read_csv('data/reference_questions.csv', delimiter='|')\n",
    "\n",
    "ref_q = np.loadtxt('data/reference_questions.csv', dtype=np.string_, delimiter='|', skiprows=1)\n",
    "ref_q = np.char.strip(ref_q)"
   ]
  },
  {
   "cell_type": "code",
   "execution_count": 4,
   "metadata": {
    "collapsed": false
   },
   "outputs": [
    {
     "data": {
      "text/plain": [
       "array([[b'We hold ourselves and our team members accountable for results',\n",
       "        b'TEA.2'],\n",
       "       [b'The information I need to do my job effectively is readily available',\n",
       "        b'ENA.3'],\n",
       "       [b'I know what I need to do to be successful in my role',\n",
       "        b'ALI.5'],\n",
       "       [b'We are encouraged to be innovative even though some of our initiatives may not succeed',\n",
       "        b'INN.2']], dtype='|S86')"
      ]
     },
     "execution_count": 4,
     "metadata": {},
     "output_type": "execute_result"
    }
   ],
   "source": [
    "ref_q"
   ]
  },
  {
   "cell_type": "markdown",
   "metadata": {},
   "source": [
    "## Load Labelled Data"
   ]
  },
  {
   "cell_type": "code",
   "execution_count": 5,
   "metadata": {
    "collapsed": false
   },
   "outputs": [],
   "source": [
    "data = np.loadtxt('data/labeled_data (copy).csv', dtype=str, delimiter='|', skiprows=1)\n",
    "data = np.char.strip(data)"
   ]
  },
  {
   "cell_type": "code",
   "execution_count": 19,
   "metadata": {
    "collapsed": false,
    "scrolled": false
   },
   "outputs": [
    {
     "data": {
      "text/plain": [
       "(297,)"
      ]
     },
     "execution_count": 19,
     "metadata": {},
     "output_type": "execute_result"
    }
   ],
   "source": [
    "x_train = data[:,0]\n",
    "x_train.shape"
   ]
  },
  {
   "cell_type": "code",
   "execution_count": 7,
   "metadata": {
    "collapsed": false
   },
   "outputs": [],
   "source": [
    "y_train = np.zeros([data.shape[0], 4])\n",
    "\n",
    "for i in range(data.shape[0]):\n",
    "    if (data[i,1] == 'ALI.5'):\n",
    "        y_train[i,0] = 1\n",
    "    elif (data[i,1] == 'ENA.3'):\n",
    "        y_train[i,1] = 1\n",
    "    elif (data[i,1] == 'TEA.2'):\n",
    "        y_train[i,2] = 1\n",
    "    elif (data[i,1] == 'INN.2'):\n",
    "        y_train[i,3] = 1"
   ]
  },
  {
   "cell_type": "code",
   "execution_count": 17,
   "metadata": {
    "collapsed": false
   },
   "outputs": [
    {
     "data": {
      "text/plain": [
       "(297, 4)"
      ]
     },
     "execution_count": 17,
     "metadata": {},
     "output_type": "execute_result"
    }
   ],
   "source": [
    "y_train.shape"
   ]
  },
  {
   "cell_type": "code",
   "execution_count": null,
   "metadata": {
    "collapsed": true
   },
   "outputs": [],
   "source": []
  },
  {
   "cell_type": "code",
   "execution_count": null,
   "metadata": {
    "collapsed": true
   },
   "outputs": [],
   "source": []
  },
  {
   "cell_type": "code",
   "execution_count": null,
   "metadata": {
    "collapsed": true
   },
   "outputs": [],
   "source": []
  },
  {
   "cell_type": "markdown",
   "metadata": {},
   "source": [
    "## Tokenizer"
   ]
  },
  {
   "cell_type": "code",
   "execution_count": 241,
   "metadata": {
    "collapsed": false
   },
   "outputs": [],
   "source": [
    "from keras.preprocessing.text import Tokenizer"
   ]
  },
  {
   "cell_type": "code",
   "execution_count": 243,
   "metadata": {
    "collapsed": false
   },
   "outputs": [],
   "source": [
    "num_words = 25\n",
    "# tokenizer = Tokenizer(num_words=num_words)\n",
    "tokenizer = Tokenizer()"
   ]
  },
  {
   "cell_type": "code",
   "execution_count": 244,
   "metadata": {
    "collapsed": false,
    "scrolled": true
   },
   "outputs": [],
   "source": [
    "texts = x_train\n",
    "\n",
    "tokenizer.fit_on_texts(texts)\n",
    "\n",
    "# tokenizer.word_index\n",
    "# tokenizer.word_counts"
   ]
  },
  {
   "cell_type": "code",
   "execution_count": 245,
   "metadata": {
    "collapsed": false
   },
   "outputs": [],
   "source": [
    "# Transform each texts to seqeunce of integers\n",
    "# Integers correspond to tokenizer dictionary\n",
    "texts = tokenizer.texts_to_sequences(x_train)"
   ]
  },
  {
   "cell_type": "code",
   "execution_count": 239,
   "metadata": {
    "collapsed": false
   },
   "outputs": [],
   "source": [
    "# Convert sentences directly to equal size arrays\n",
    "# Using one hot encoding to encode array based on dictionary\n",
    "# tokenizer.texts_to_matrix([\"June is beautiful and I like it!\",\"Like August\"])"
   ]
  },
  {
   "cell_type": "code",
   "execution_count": 258,
   "metadata": {
    "collapsed": false
   },
   "outputs": [],
   "source": [
    "# Pad sequences\n",
    "from keras.preprocessing.sequence import pad_sequences\n",
    "\n",
    "max_length = len(max(texts, key=len))\n",
    "\n",
    "padded = pad_sequences(texts, maxlen=max_length, padding='post')\n"
   ]
  },
  {
   "cell_type": "markdown",
   "metadata": {},
   "source": [
    "## Make Network"
   ]
  },
  {
   "cell_type": "code",
   "execution_count": 281,
   "metadata": {
    "collapsed": false
   },
   "outputs": [
    {
     "data": {
      "text/plain": [
       "194"
      ]
     },
     "execution_count": 281,
     "metadata": {},
     "output_type": "execute_result"
    }
   ],
   "source": [
    "# X = tokenizer.texts_to_matrix(x_train)\n",
    "X = padded\n",
    "Y = y_train\n",
    "\n",
    "vocab_size = len(tokenizer.word_index)+1\n",
    "vocab_size"
   ]
  },
  {
   "cell_type": "code",
   "execution_count": 385,
   "metadata": {
    "collapsed": false
   },
   "outputs": [
    {
     "name": "stdout",
     "output_type": "stream",
     "text": [
      "_________________________________________________________________\n",
      "Layer (type)                 Output Shape              Param #   \n",
      "=================================================================\n",
      "embedding_59 (Embedding)     (None, 20, 5)             970       \n",
      "_________________________________________________________________\n",
      "lstm_6 (LSTM)                (None, 25)                3100      \n",
      "_________________________________________________________________\n",
      "dense_91 (Dense)             (None, 4)                 104       \n",
      "=================================================================\n",
      "Total params: 4,174\n",
      "Trainable params: 4,174\n",
      "Non-trainable params: 0\n",
      "_________________________________________________________________\n"
     ]
    }
   ],
   "source": [
    "# Build & Compile Model\n",
    "\n",
    "from keras.models import Sequential\n",
    "from keras.layers import Dense, Embedding, Flatten, Dropout, LSTM\n",
    "\n",
    "model = Sequential()\n",
    "model.add(Embedding(vocab_size, 5, input_length=max_length))\n",
    "# model.add(Flatten())\n",
    "model.add(LSTM(25))\n",
    "# model.add(Dropout(0.2))\n",
    "model.add(Dense(4, activation='softmax'))\n",
    "\n",
    "model.compile(loss='categorical_crossentropy', optimizer='rmsprop', metrics=['accuracy'])\n",
    "\n",
    "model.summary()"
   ]
  },
  {
   "cell_type": "code",
   "execution_count": 386,
   "metadata": {
    "collapsed": false,
    "scrolled": true
   },
   "outputs": [],
   "source": [
    "# Train Model\n",
    "\n",
    "history = model.fit(X, Y,\n",
    "                    batch_size=32, epochs=250,\n",
    "                    verbose=0,\n",
    "                    validation_split=0.2,\n",
    "                    shuffle=True)"
   ]
  },
  {
   "cell_type": "code",
   "execution_count": 387,
   "metadata": {
    "collapsed": false
   },
   "outputs": [
    {
     "name": "stdout",
     "output_type": "stream",
     "text": [
      " 32/297 [==>...........................] - ETA: 0s\n",
      "Loss is: 0.3148\n",
      "Accuracy is: 97.64%\n"
     ]
    }
   ],
   "source": [
    "# Evalute Model\n",
    "\n",
    "score = model.evaluate(X, Y)\n",
    "print(\"\\nLoss is: %.4f\" % score[0])\n",
    "print(\"Accuracy is: %.2f%%\" % (score[1]*100))"
   ]
  },
  {
   "cell_type": "code",
   "execution_count": 388,
   "metadata": {
    "collapsed": false
   },
   "outputs": [
    {
     "data": {
      "image/png": "[encoded data removed]",
      "text/plain": [
       "<matplotlib.figure.Figure at 0x7f21390f6240>"
      ]
     },
     "metadata": {},
     "output_type": "display_data"
    }
   ],
   "source": [
    "from utils.plots import *\n",
    "\n",
    "plot_loss(history, score)"
   ]
  },
  {
   "cell_type": "markdown",
   "metadata": {},
   "source": [
    "## Test Model"
   ]
  },
  {
   "cell_type": "code",
   "execution_count": 413,
   "metadata": {
    "collapsed": true
   },
   "outputs": [],
   "source": [
    "test_q = np.loadtxt('data/test_questions.txt', dtype=str, delimiter=',')\n",
    "test_q = np.char.strip(test_q)"
   ]
  },
  {
   "cell_type": "code",
   "execution_count": 415,
   "metadata": {
    "collapsed": false
   },
   "outputs": [],
   "source": [
    "test_data = tokenizer.texts_to_sequences(test_q)"
   ]
  },
  {
   "cell_type": "code",
   "execution_count": 420,
   "metadata": {
    "collapsed": true
   },
   "outputs": [],
   "source": [
    "test_padded = pad_sequences(test_data, maxlen=max_length, padding='post')"
   ]
  },
  {
   "cell_type": "code",
   "execution_count": 422,
   "metadata": {
    "collapsed": false
   },
   "outputs": [
    {
     "data": {
      "text/plain": [
       "array([[1.0000000e+00, 5.3093814e-08, 4.9049738e-08, 5.1610827e-10],\n",
       "       [1.0000000e+00, 4.8727568e-08, 4.6699792e-08, 5.4954319e-10],\n",
       "       [1.0000000e+00, 5.0578372e-08, 4.7031602e-08, 5.6129762e-10],\n",
       "       [6.9994186e-08, 2.5251239e-08, 9.9999988e-01, 1.9017738e-09],\n",
       "       [9.3995077e-08, 9.9999976e-01, 1.3859640e-09, 7.5044532e-08],\n",
       "       [1.2211773e-08, 7.9904162e-08, 1.6790787e-08, 9.9999988e-01],\n",
       "       [1.0000000e+00, 5.0137221e-08, 4.6979601e-08, 5.5554611e-10],\n",
       "       [8.2055152e-08, 9.9999988e-01, 5.9003047e-10, 1.4227235e-08],\n",
       "       [6.9963086e-08, 2.5340691e-08, 9.9999988e-01, 1.9082269e-09],\n",
       "       [8.2055152e-08, 9.9999988e-01, 5.9003047e-10, 1.4227235e-08]],\n",
       "      dtype=float32)"
      ]
     },
     "execution_count": 422,
     "metadata": {},
     "output_type": "execute_result"
    }
   ],
   "source": [
    "model.predict(test_padded)"
   ]
  },
  {
   "cell_type": "code",
   "execution_count": null,
   "metadata": {
    "collapsed": false
   },
   "outputs": [],
   "source": []
  },
  {
   "cell_type": "code",
   "execution_count": null,
   "metadata": {
    "collapsed": false
   },
   "outputs": [],
   "source": []
  },
  {
   "cell_type": "code",
   "execution_count": null,
   "metadata": {
    "collapsed": false
   },
   "outputs": [],
   "source": []
  },
  {
   "cell_type": "code",
   "execution_count": null,
   "metadata": {
    "collapsed": true
   },
   "outputs": [],
   "source": []
  }
 ],
 "metadata": {
  "kernelspec": {
   "display_name": "Python 3",
   "language": "python",
   "name": "python3"
  },
  "language_info": {
   "codemirror_mode": {
    "name": "ipython",
    "version": 3
   },
   "file_extension": ".py",
   "mimetype": "text/x-python",
   "name": "python",
   "nbconvert_exporter": "python",
   "pygments_lexer": "ipython3",
   "version": "3.5.2"
  }
 },
 "nbformat": 4,
 "nbformat_minor": 0
}
