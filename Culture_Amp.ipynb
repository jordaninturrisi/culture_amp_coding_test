{
 "cells": [
  {
   "cell_type": "code",
   "execution_count": 1,
   "metadata": {
    "collapsed": false
   },
   "outputs": [
    {
     "name": "stderr",
     "output_type": "stream",
     "text": [
      "Using TensorFlow backend.\n"
     ]
    }
   ],
   "source": [
    "# Imports\n",
    "from __future__ import print_function\n",
    "\n",
    "# Hide warnings\n",
    "import os\n",
    "import warnings\n",
    "os.environ['TF_CPP_MIN_LOG_LEVEL'] = '3' #Hide messy TensorFlow warnings\n",
    "warnings.filterwarnings(\"ignore\") #Hide messy Numpy warnings\n",
    "\n",
    "# Keras\n",
    "import keras\n",
    "import numpy as np\n",
    "import matplotlib.pyplot as plt\n",
    "\n",
    "from keras.callbacks import ModelCheckpoint\n",
    "from keras.models import load_model\n",
    "\n",
    "from utils.prepare_data import*\n",
    "from utils.model import *\n",
    "from utils.plots import *\n",
    "from utils.results import*"
   ]
  },
  {
   "cell_type": "code",
   "execution_count": 2,
   "metadata": {
    "collapsed": true
   },
   "outputs": [],
   "source": [
    "# Put these at the top of every notebook, to get automatic reloading and inline plotting\n",
    "\n",
    "# This is a bit of magic to make matplotlib figures appear inline in the\n",
    "# notebook rather than in a new window.\n",
    "%matplotlib inline\n",
    "plt.rcParams['figure.figsize'] = (10.0, 8.0) # set default size of plots\n",
    "plt.rcParams['image.interpolation'] = 'nearest'\n",
    "plt.rcParams['image.cmap'] = 'gray'\n",
    "\n",
    "# Some more magic so that the notebook will reload external python modules;\n",
    "# see http://stackoverflow.com/questions/1907993/autoreload-of-modules-in-ipython\n",
    "%load_ext autoreload\n",
    "%autoreload 2"
   ]
  },
  {
   "cell_type": "markdown",
   "metadata": {},
   "source": [
    "# Load Data"
   ]
  },
  {
   "cell_type": "code",
   "execution_count": 3,
   "metadata": {
    "collapsed": false
   },
   "outputs": [
    {
     "name": "stdout",
     "output_type": "stream",
     "text": [
      "\n",
      "\n",
      "Reference questions:\n",
      " [['We hold ourselves and our team members accountable for results'\n",
      "  'TEA.2']\n",
      " ['The information I need to do my job effectively is readily available'\n",
      "  'ENA.3']\n",
      " ['I know what I need to do to be successful in my role' 'ALI.5']\n",
      " ['We are encouraged to be innovative even though some of our initiatives may not succeed'\n",
      "  'INN.2']]\n",
      "\n",
      "Labelled data:\n",
      " [['I know what my goals are and what I need to do to be successful in my role'\n",
      "  'ALI.5']\n",
      " ['I feel like I can be successful in my role' 'ALI.5']\n",
      " ['I know what I need to do to be successful in my role' 'ALI.5']\n",
      " ['I understand my role and what is expected of me' 'ALI.5']\n",
      " ['I know what is expected of me in my role.' 'ALI.5']]\n"
     ]
    }
   ],
   "source": [
    "# Load data\n",
    "ref_q, inputs = load_data(verbose=True)\n"
   ]
  },
  {
   "cell_type": "code",
   "execution_count": 4,
   "metadata": {
    "collapsed": false
   },
   "outputs": [
    {
     "name": "stdout",
     "output_type": "stream",
     "text": [
      "\n",
      "\n",
      "Inputs shape:  (297, 20)\n",
      "Targets shape:  (297, 4)\n"
     ]
    }
   ],
   "source": [
    "# Create input/output vectors\n",
    "x_train, y_train, tokenizer, max_length, vocab_size = create_training_vectors(inputs)"
   ]
  },
  {
   "cell_type": "markdown",
   "metadata": {},
   "source": [
    "## Train Network"
   ]
  },
  {
   "cell_type": "code",
   "execution_count": 5,
   "metadata": {
    "collapsed": false,
    "scrolled": false
   },
   "outputs": [
    {
     "name": "stdout",
     "output_type": "stream",
     "text": [
      "\n",
      "\n",
      "Loading pretrained model...\n",
      "Pretrained model loaded\n"
     ]
    }
   ],
   "source": [
    "if not os.path.isfile('model/model'):\n",
    "    # Build & Compile Model\n",
    "    print('\\n\\nBuilding model...')\n",
    "    model = build_model(vocab_size, max_length, verbose=True)\n",
    "\n",
    "    # Callbacks\n",
    "    checkpointer = ModelCheckpoint('model/model', monitor='val_loss', verbose=0, save_best_only=True, \\\n",
    "                                   save_weights_only=False, mode='auto', period=1)\n",
    "\n",
    "    # Train Model\n",
    "    print('Training model...')\n",
    "    print('This should take around 5 minutes...')\n",
    "    history = model.fit(x_train, y_train,\n",
    "                       batch_size=32, epochs=250,\n",
    "                       verbose=0,\n",
    "                       validation_split=0.2,\n",
    "                       shuffle=True,\n",
    "                       callbacks=[checkpointer])\n",
    "\n",
    "    # Visualise training\n",
    "    plot_loss(history)\n",
    "\n",
    "    print('\\n\\nLoading best model...')\n",
    "    model = load_model('model/model')\n",
    "\n",
    "else:\n",
    "    # Load Model\n",
    "    print('\\n\\nLoading pretrained model...')\n",
    "    model = load_model('model/model')\n",
    "    print('Pretrained model loaded')"
   ]
  },
  {
   "cell_type": "code",
   "execution_count": 6,
   "metadata": {
    "collapsed": false
   },
   "outputs": [
    {
     "name": "stdout",
     "output_type": "stream",
     "text": [
      "\n",
      "\n",
      "Evaluating model...\n",
      "Overall Loss: 0.0133\n",
      "Overall Accuracy: 99.33%\n"
     ]
    }
   ],
   "source": [
    "# Evalute Model\n",
    "print('\\n\\nEvaluating model...')\n",
    "score = model.evaluate(x_train, y_train, verbose=0)\n",
    "print('Overall Loss: %.4f' % score[0])\n",
    "print('Overall Accuracy: %.2f%%' % (score[1]*100))"
   ]
  },
  {
   "cell_type": "markdown",
   "metadata": {},
   "source": [
    "## Test Model"
   ]
  },
  {
   "cell_type": "code",
   "execution_count": 7,
   "metadata": {
    "collapsed": false
   },
   "outputs": [
    {
     "name": "stdout",
     "output_type": "stream",
     "text": [
      "\n",
      "\n",
      "Test data:\n",
      " ['\"My team is enthusiatic about the work we do\"'\n",
      " '\"I understand what I need to do to move up at StarWars\"'\n",
      " '\"I understand clearly what I need to do to be successful in my current role\"'\n",
      " '\"Team members are collectively accountable for achievements\"'\n",
      " '\"Is available when I really need them\"'\n",
      " '\"We are encouraged to be innovative even though some of our initiatives may not succeed\"'\n",
      " '\"I know what is expected of me to be successful in my role\"'\n",
      " '\"The information I need to do my job effectively is readily available\"'\n",
      " '\"We hold ourselves and our team members accountable for results\"'\n",
      " '\"The information I need to do my job effectively is readily available\"']\n"
     ]
    }
   ],
   "source": [
    "# Import test data & create input vector\n",
    "x_test, test_inputs = prepare_test_data(tokenizer, max_length, verbose=True)"
   ]
  },
  {
   "cell_type": "code",
   "execution_count": 8,
   "metadata": {
    "collapsed": false
   },
   "outputs": [],
   "source": [
    "# Employ model on test data\n",
    "test_probs = predict_with_model(x_test, model)"
   ]
  },
  {
   "cell_type": "code",
   "execution_count": 9,
   "metadata": {
    "collapsed": false
   },
   "outputs": [
    {
     "name": "stdout",
     "output_type": "stream",
     "text": [
      "\n",
      "\n",
      "\n",
      "Question #1: \"My team is enthusiatic about the work we do\"\n",
      "Primary Reference Question: We hold ourselves and our team members accountable for results\n",
      "Primary Reference Question Code: TEA.2\n",
      "Relevance: 99.979%\n",
      "Secondary Reference Question: The information I need to do my job effectively is readily available\n",
      "Secondary Reference Question Code: ENA.3\n",
      "Relevance: 0.013%\n",
      "\n",
      "\n",
      "Question #2: \"I understand what I need to do to move up at StarWars\"\n",
      "Primary Reference Question: I know what I need to do to be successful in my role\n",
      "Primary Reference Question Code: ALI.5\n",
      "Relevance: 99.981%\n",
      "Secondary Reference Question: The information I need to do my job effectively is readily available\n",
      "Secondary Reference Question Code: ENA.3\n",
      "Relevance: 0.010%\n",
      "\n",
      "\n",
      "Question #3: \"I understand clearly what I need to do to be successful in my current role\"\n",
      "Primary Reference Question: I know what I need to do to be successful in my role\n",
      "Primary Reference Question Code: ALI.5\n",
      "Relevance: 99.981%\n",
      "Secondary Reference Question: The information I need to do my job effectively is readily available\n",
      "Secondary Reference Question Code: ENA.3\n",
      "Relevance: 0.010%\n",
      "\n",
      "\n",
      "Question #4: \"Team members are collectively accountable for achievements\"\n",
      "Primary Reference Question: We hold ourselves and our team members accountable for results\n",
      "Primary Reference Question Code: TEA.2\n",
      "Relevance: 99.979%\n",
      "Secondary Reference Question: The information I need to do my job effectively is readily available\n",
      "Secondary Reference Question Code: ENA.3\n",
      "Relevance: 0.013%\n",
      "\n",
      "\n",
      "Question #5: \"Is available when I really need them\"\n",
      "Primary Reference Question: The information I need to do my job effectively is readily available\n",
      "Primary Reference Question Code: ENA.3\n",
      "Relevance: 99.971%\n",
      "Secondary Reference Question: We hold ourselves and our team members accountable for results\n",
      "Secondary Reference Question Code: TEA.2\n",
      "Relevance: 0.019%\n",
      "\n",
      "\n",
      "Question #6: \"We are encouraged to be innovative even though some of our initiatives may not succeed\"\n",
      "Primary Reference Question: We are encouraged to be innovative even though some of our initiatives may not succeed\n",
      "Primary Reference Question Code: INN.2\n",
      "Relevance: 99.891%\n",
      "Secondary Reference Question: We hold ourselves and our team members accountable for results\n",
      "Secondary Reference Question Code: TEA.2\n",
      "Relevance: 0.061%\n",
      "\n",
      "\n",
      "Question #7: \"I know what is expected of me to be successful in my role\"\n",
      "Primary Reference Question: I know what I need to do to be successful in my role\n",
      "Primary Reference Question Code: ALI.5\n",
      "Relevance: 99.981%\n",
      "Secondary Reference Question: The information I need to do my job effectively is readily available\n",
      "Secondary Reference Question Code: ENA.3\n",
      "Relevance: 0.010%\n",
      "\n",
      "\n",
      "Question #8: \"The information I need to do my job effectively is readily available\"\n",
      "Primary Reference Question: The information I need to do my job effectively is readily available\n",
      "Primary Reference Question Code: ENA.3\n",
      "Relevance: 99.971%\n",
      "Secondary Reference Question: We hold ourselves and our team members accountable for results\n",
      "Secondary Reference Question Code: TEA.2\n",
      "Relevance: 0.019%\n",
      "\n",
      "\n",
      "Question #9: \"We hold ourselves and our team members accountable for results\"\n",
      "Primary Reference Question: We hold ourselves and our team members accountable for results\n",
      "Primary Reference Question Code: TEA.2\n",
      "Relevance: 99.979%\n",
      "Secondary Reference Question: The information I need to do my job effectively is readily available\n",
      "Secondary Reference Question Code: ENA.3\n",
      "Relevance: 0.013%\n",
      "\n",
      "\n",
      "Question #10: \"The information I need to do my job effectively is readily available\"\n",
      "Primary Reference Question: The information I need to do my job effectively is readily available\n",
      "Primary Reference Question Code: ENA.3\n",
      "Relevance: 99.971%\n",
      "Secondary Reference Question: We hold ourselves and our team members accountable for results\n",
      "Secondary Reference Question Code: TEA.2\n",
      "Relevance: 0.019%\n",
      "\n",
      "\n"
     ]
    }
   ],
   "source": [
    "# Find 1st & 2nd most correlated reference questions\n",
    "# Display results\n",
    "display_results(test_probs, test_inputs, ref_q)"
   ]
  }
 ],
 "metadata": {
  "kernelspec": {
   "display_name": "Python 3",
   "language": "python",
   "name": "python3"
  },
  "language_info": {
   "codemirror_mode": {
    "name": "ipython",
    "version": 3
   },
   "file_extension": ".py",
   "mimetype": "text/x-python",
   "name": "python",
   "nbconvert_exporter": "python",
   "pygments_lexer": "ipython3",
   "version": "3.5.2"
  }
 },
 "nbformat": 4,
 "nbformat_minor": 0
}
