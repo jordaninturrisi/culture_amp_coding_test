{
 "cells": [
  {
   "cell_type": "code",
   "execution_count": 1,
   "metadata": {
    "collapsed": false
   },
   "outputs": [
    {
     "name": "stderr",
     "output_type": "stream",
     "text": [
      "/usr/local/lib/python3.5/dist-packages/h5py/__init__.py:34: FutureWarning: Conversion of the second argument of issubdtype from `float` to `np.floating` is deprecated. In future, it will be treated as `np.float64 == np.dtype(float).type`.\n",
      "  from ._conv import register_converters as _register_converters\n",
      "Using TensorFlow backend.\n"
     ]
    }
   ],
   "source": [
    "# Imports\n",
    "\n",
    "from __future__ import print_function\n",
    "\n",
    "# Keras\n",
    "import keras\n",
    "\n",
    "# Other\n",
    "import random\n",
    "import numpy as np\n",
    "import tensorflow as tf\n",
    "import matplotlib.pyplot as plt\n",
    "import pandas as pd"
   ]
  },
  {
   "cell_type": "code",
   "execution_count": 2,
   "metadata": {
    "collapsed": true
   },
   "outputs": [],
   "source": [
    "# Put these at the top of every notebook, to get automatic reloading and inline plotting\n",
    "\n",
    "# This is a bit of magic to make matplotlib figures appear inline in the\n",
    "# notebook rather than in a new window.\n",
    "%matplotlib inline\n",
    "plt.rcParams['figure.figsize'] = (10.0, 8.0) # set default size of plots\n",
    "plt.rcParams['image.interpolation'] = 'nearest'\n",
    "plt.rcParams['image.cmap'] = 'gray'\n",
    "\n",
    "# Some more magic so that the notebook will reload external python modules;\n",
    "# see http://stackoverflow.com/questions/1907993/autoreload-of-modules-in-ipython\n",
    "%load_ext autoreload\n",
    "%autoreload 2"
   ]
  },
  {
   "cell_type": "markdown",
   "metadata": {},
   "source": [
    "# Load Data"
   ]
  },
  {
   "cell_type": "code",
   "execution_count": 3,
   "metadata": {
    "collapsed": false
   },
   "outputs": [
    {
     "name": "stdout",
     "output_type": "stream",
     "text": [
      "Reference questions:\n",
      " [['We hold ourselves and our team members accountable for results'\n",
      "  'TEA.2']\n",
      " ['The information I need to do my job effectively is readily available'\n",
      "  'ENA.3']\n",
      " ['I know what I need to do to be successful in my role' 'ALI.5']\n",
      " ['We are encouraged to be innovative even though some of our initiatives may not succeed'\n",
      "  'INN.2']]\n",
      "\n",
      "Labelled data:\n",
      " [['I know what my goals are and what I need to do to be successful in my role'\n",
      "  'ALI.5']\n",
      " ['I feel like I can be successful in my role' 'ALI.5']\n",
      " ['I know what I need to do to be successful in my role' 'ALI.5']\n",
      " ['I understand my role and what is expected of me' 'ALI.5']\n",
      " ['I know what is expected of me in my role.' 'ALI.5']]\n"
     ]
    }
   ],
   "source": [
    "from utils.prepare_data import*\n",
    "\n",
    "ref_q, inputs = load_data(verbose=True)"
   ]
  },
  {
   "cell_type": "code",
   "execution_count": 4,
   "metadata": {
    "collapsed": false
   },
   "outputs": [
    {
     "name": "stdout",
     "output_type": "stream",
     "text": [
      "Inputs shape:  (297, 20)\n",
      "Targets shape:  (297, 4)\n"
     ]
    }
   ],
   "source": [
    "from utils.prepare_data import *\n",
    "x_train, y_train, tokenizer, max_length, vocab_size = create_training_vectors(inputs)"
   ]
  },
  {
   "cell_type": "markdown",
   "metadata": {},
   "source": [
    "## Make Network"
   ]
  },
  {
   "cell_type": "code",
   "execution_count": 5,
   "metadata": {
    "collapsed": false
   },
   "outputs": [
    {
     "name": "stdout",
     "output_type": "stream",
     "text": [
      "Model properties:\n",
      "_________________________________________________________________\n",
      "Layer (type)                 Output Shape              Param #   \n",
      "=================================================================\n",
      "embedding_1 (Embedding)      (None, 20, 5)             970       \n",
      "_________________________________________________________________\n",
      "lstm_1 (LSTM)                (None, 5)                 220       \n",
      "_________________________________________________________________\n",
      "dense_1 (Dense)              (None, 4)                 24        \n",
      "=================================================================\n",
      "Total params: 1,214\n",
      "Trainable params: 1,214\n",
      "Non-trainable params: 0\n",
      "_________________________________________________________________\n"
     ]
    }
   ],
   "source": [
    "from utils.model import *\n",
    "\n",
    "model = build_model(vocab_size, max_length)"
   ]
  },
  {
   "cell_type": "code",
   "execution_count": 6,
   "metadata": {
    "collapsed": false,
    "scrolled": true
   },
   "outputs": [],
   "source": [
    "# Train Model\n",
    "from keras.callbacks import ModelCheckpoint\n",
    "\n",
    "# Callbacks\n",
    "checkpointer = ModelCheckpoint('model/model', monitor='val_loss', verbose=0, save_best_only=True, save_weights_only=False, mode='auto', period=1)\n",
    "    \n",
    "history = model.fit(x_train, y_train,\n",
    "                   batch_size=32, epochs=250,\n",
    "                   verbose=0,\n",
    "                   validation_split=0.2,\n",
    "                   shuffle=True,\n",
    "                   callbacks=[checkpointer])"
   ]
  },
  {
   "cell_type": "code",
   "execution_count": 7,
   "metadata": {
    "collapsed": false
   },
   "outputs": [
    {
     "name": "stdout",
     "output_type": "stream",
     "text": [
      "    Overall Loss: 0.0011\n",
      "Overall Accuracy: 100.00%\n"
     ]
    }
   ],
   "source": [
    "# Evalute Model\n",
    "\n",
    "score = model.evaluate(x_train, y_train, verbose=0)\n",
    "print('    Overall Loss: %.4f' % score[0])\n",
    "print('Overall Accuracy: %.2f%%' % (score[1]*100))"
   ]
  },
  {
   "cell_type": "code",
   "execution_count": 8,
   "metadata": {
    "collapsed": false
   },
   "outputs": [
    {
     "data": {
      "image/png": "[encoded data removed]",
      "text/plain": [
       "<matplotlib.figure.Figure at 0x7fc74720fb00>"
      ]
     },
     "metadata": {},
     "output_type": "display_data"
    }
   ],
   "source": [
    "from utils.plots import *\n",
    "\n",
    "plot_loss(history, score)"
   ]
  },
  {
   "cell_type": "markdown",
   "metadata": {},
   "source": [
    "## Test Model"
   ]
  },
  {
   "cell_type": "code",
   "execution_count": 9,
   "metadata": {
    "collapsed": false
   },
   "outputs": [],
   "source": [
    "from utils.prepare_data import *\n",
    "\n",
    "x_test = load_test_data(tokenizer, max_length, verbose=True)"
   ]
  },
  {
   "cell_type": "code",
   "execution_count": 10,
   "metadata": {
    "collapsed": true
   },
   "outputs": [],
   "source": [
    "from utils.model import *\n",
    "test_outputs = predict_with_model(x_test)"
   ]
  },
  {
   "cell_type": "code",
   "execution_count": 11,
   "metadata": {
    "collapsed": false
   },
   "outputs": [
    {
     "data": {
      "text/plain": [
       "array([[9.9991262e-01, 4.1461524e-05, 4.8654310e-06, 4.1019892e-05],\n",
       "       [1.8026251e-06, 5.0660095e-05, 9.9960178e-01, 3.4581547e-04],\n",
       "       [1.8029328e-06, 5.0668266e-05, 9.9960178e-01, 3.4582338e-04],\n",
       "       [9.9991262e-01, 4.1458996e-05, 4.8649536e-06, 4.1015825e-05],\n",
       "       [9.9990988e-01, 4.3785341e-05, 5.0850790e-06, 4.1292955e-05],\n",
       "       [1.1271603e-04, 1.6031588e-03, 1.1684493e-03, 9.9711573e-01],\n",
       "       [1.8026939e-06, 5.0661838e-05, 9.9960178e-01, 3.4581748e-04],\n",
       "       [1.6390925e-04, 9.9950647e-01, 7.2924180e-05, 2.5661773e-04],\n",
       "       [9.9991262e-01, 4.1458996e-05, 4.8649536e-06, 4.1015825e-05],\n",
       "       [1.6390925e-04, 9.9950647e-01, 7.2924180e-05, 2.5661773e-04]],\n",
       "      dtype=float32)"
      ]
     },
     "execution_count": 11,
     "metadata": {},
     "output_type": "execute_result"
    }
   ],
   "source": [
    "test_outputs"
   ]
  },
  {
   "cell_type": "code",
   "execution_count": null,
   "metadata": {
    "collapsed": false
   },
   "outputs": [],
   "source": []
  },
  {
   "cell_type": "code",
   "execution_count": 12,
   "metadata": {
    "collapsed": false
   },
   "outputs": [],
   "source": [
    "from utils.results import*\n",
    "\n",
    "first_ind, first_q, first_code = top_result(test_outputs, ref_q)"
   ]
  },
  {
   "cell_type": "code",
   "execution_count": 13,
   "metadata": {
    "collapsed": false
   },
   "outputs": [
    {
     "data": {
      "text/plain": [
       "(array([0, 2, 2, 0, 0, 3, 2, 1, 0, 1]),\n",
       " ['We hold ourselves and our team members accountable for results',\n",
       "  'I know what I need to do to be successful in my role',\n",
       "  'I know what I need to do to be successful in my role',\n",
       "  'We hold ourselves and our team members accountable for results',\n",
       "  'We hold ourselves and our team members accountable for results',\n",
       "  'We are encouraged to be innovative even though some of our initiatives may not succeed',\n",
       "  'I know what I need to do to be successful in my role',\n",
       "  'The information I need to do my job effectively is readily available',\n",
       "  'We hold ourselves and our team members accountable for results',\n",
       "  'The information I need to do my job effectively is readily available'],\n",
       " ['TEA.2',\n",
       "  'ALI.5',\n",
       "  'ALI.5',\n",
       "  'TEA.2',\n",
       "  'TEA.2',\n",
       "  'INN.2',\n",
       "  'ALI.5',\n",
       "  'ENA.3',\n",
       "  'TEA.2',\n",
       "  'ENA.3'])"
      ]
     },
     "execution_count": 13,
     "metadata": {},
     "output_type": "execute_result"
    }
   ],
   "source": [
    "first_ind, first_q, first_code"
   ]
  },
  {
   "cell_type": "code",
   "execution_count": 14,
   "metadata": {
    "collapsed": false
   },
   "outputs": [],
   "source": [
    "# second_ind, second_q, second_code = second_result(test_outputs, ref_q, first_ind)\n",
    "outputs = second_result(test_outputs, ref_q, first_ind)"
   ]
  },
  {
   "cell_type": "code",
   "execution_count": null,
   "metadata": {
    "collapsed": false
   },
   "outputs": [],
   "source": [
    "second_ind, second_q, second_code"
   ]
  },
  {
   "cell_type": "code",
   "execution_count": null,
   "metadata": {
    "collapsed": false
   },
   "outputs": [],
   "source": []
  },
  {
   "cell_type": "code",
   "execution_count": null,
   "metadata": {
    "collapsed": false
   },
   "outputs": [],
   "source": [
    "test_outputs"
   ]
  },
  {
   "cell_type": "code",
   "execution_count": null,
   "metadata": {
    "collapsed": false
   },
   "outputs": [],
   "source": [
    "first_ind"
   ]
  },
  {
   "cell_type": "code",
   "execution_count": null,
   "metadata": {
    "collapsed": true
   },
   "outputs": [],
   "source": []
  },
  {
   "cell_type": "code",
   "execution_count": null,
   "metadata": {
    "collapsed": true
   },
   "outputs": [],
   "source": []
  },
  {
   "cell_type": "code",
   "execution_count": null,
   "metadata": {
    "collapsed": true
   },
   "outputs": [],
   "source": []
  },
  {
   "cell_type": "code",
   "execution_count": null,
   "metadata": {
    "collapsed": true
   },
   "outputs": [],
   "source": []
  },
  {
   "cell_type": "code",
   "execution_count": null,
   "metadata": {
    "collapsed": true
   },
   "outputs": [],
   "source": []
  },
  {
   "cell_type": "code",
   "execution_count": null,
   "metadata": {
    "collapsed": true
   },
   "outputs": [],
   "source": []
  }
 ],
 "metadata": {
  "kernelspec": {
   "display_name": "Python 3",
   "language": "python",
   "name": "python3"
  },
  "language_info": {
   "codemirror_mode": {
    "name": "ipython",
    "version": 3
   },
   "file_extension": ".py",
   "mimetype": "text/x-python",
   "name": "python",
   "nbconvert_exporter": "python",
   "pygments_lexer": "ipython3",
   "version": "3.5.2"
  }
 },
 "nbformat": 4,
 "nbformat_minor": 0
}
